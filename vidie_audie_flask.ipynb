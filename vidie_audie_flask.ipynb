{
  "cells": [
    {
      "cell_type": "markdown",
      "metadata": {
        "id": "35VQGwSeW7CS"
      },
      "source": [
        "# Settings"
      ]
    },
    {
      "cell_type": "code",
      "execution_count": null,
      "metadata": {
        "colab": {
          "base_uri": "https://localhost:8080/"
        },
        "id": "AJyMe3EjtMrS",
        "outputId": "3e0785ce-14ff-4a28-b1e4-13b2bc70b5ab"
      },
      "outputs": [
        {
          "output_type": "stream",
          "name": "stdout",
          "text": [
            "Drive already mounted at /content/drive; to attempt to forcibly remount, call drive.mount(\"/content/drive\", force_remount=True).\n",
            "/content/drive/MyDrive/vidie-audie\n"
          ]
        }
      ],
      "source": [
        "# 구글 드라이브 연동\n",
        "from google.colab import drive\n",
        "drive.mount('/content/drive')\n",
        "%cd /content/drive/MyDrive/vidie-audie"
      ]
    },
    {
      "cell_type": "code",
      "source": [
        "%cd /content/drive/MyDrive/vidie-audie"
      ],
      "metadata": {
        "colab": {
          "base_uri": "https://localhost:8080/"
        },
        "id": "_qprVJIqDp83",
        "outputId": "c69b1e16-7b81-4591-f096-261526ff405d"
      },
      "execution_count": 1,
      "outputs": [
        {
          "output_type": "stream",
          "name": "stdout",
          "text": [
            "/content/drive/MyDrive/vidie-audie\n"
          ]
        }
      ]
    },
    {
      "cell_type": "code",
      "source": [
        "# env loading\n",
        "!pip install python-dotenv\n",
        "\n",
        "from dotenv import load_dotenv\n",
        "import os\n",
        "\n",
        "dotenv_path = '/content/drive/MyDrive/vidie-audie/.env'\n",
        "\n",
        "load_dotenv(dotenv_path)\n",
        "ngrok_token = os.getenv('NGROK_AUTHTOKEN')\n",
        "openai_api_key = os.getenv('OPENAI_API_KEY')"
      ],
      "metadata": {
        "id": "eBu-z4vTI6wR",
        "colab": {
          "base_uri": "https://localhost:8080/"
        },
        "outputId": "f7a2dcdc-25f2-4a9e-a1af-616edbfa1348"
      },
      "execution_count": 2,
      "outputs": [
        {
          "output_type": "stream",
          "name": "stdout",
          "text": [
            "Collecting python-dotenv\n",
            "  Downloading python_dotenv-1.0.1-py3-none-any.whl (19 kB)\n",
            "Installing collected packages: python-dotenv\n",
            "Successfully installed python-dotenv-1.0.1\n"
          ]
        }
      ]
    },
    {
      "cell_type": "code",
      "execution_count": 3,
      "metadata": {
        "colab": {
          "base_uri": "https://localhost:8080/"
        },
        "id": "S35IUCk2m5u2",
        "outputId": "305fe785-b570-4f14-889b-f41d022db2ff"
      },
      "outputs": [
        {
          "output_type": "stream",
          "name": "stdout",
          "text": [
            "  Installing build dependencies ... \u001b[?25l\u001b[?25hdone\n",
            "  Getting requirements to build wheel ... \u001b[?25l\u001b[?25hdone\n",
            "  Preparing metadata (pyproject.toml) ... \u001b[?25l\u001b[?25hdone\n",
            "\u001b[2K     \u001b[90m━━━━━━━━━━━━━━━━━━━━━━━━━━━━━━━━━━━━━━━━\u001b[0m \u001b[32m1.1/1.1 MB\u001b[0m \u001b[31m6.1 MB/s\u001b[0m eta \u001b[36m0:00:00\u001b[0m\n",
            "\u001b[2K     \u001b[90m━━━━━━━━━━━━━━━━━━━━━━━━━━━━━━━━━━━━━━━━\u001b[0m \u001b[32m21.3/21.3 MB\u001b[0m \u001b[31m55.6 MB/s\u001b[0m eta \u001b[36m0:00:00\u001b[0m\n",
            "\u001b[?25h  Building wheel for openai-whisper (pyproject.toml) ... \u001b[?25l\u001b[?25hdone\n"
          ]
        },
        {
          "output_type": "stream",
          "name": "stderr",
          "text": [
            "100%|██████████████████████████████████████| 1.42G/1.42G [00:11<00:00, 128MiB/s]\n"
          ]
        },
        {
          "output_type": "stream",
          "name": "stdout",
          "text": [
            "Collecting yt-dlp\n",
            "  Downloading yt_dlp-2024.5.27-py3-none-any.whl (3.1 MB)\n",
            "\u001b[2K     \u001b[90m━━━━━━━━━━━━━━━━━━━━━━━━━━━━━━━━━━━━━━━━\u001b[0m \u001b[32m3.1/3.1 MB\u001b[0m \u001b[31m10.9 MB/s\u001b[0m eta \u001b[36m0:00:00\u001b[0m\n",
            "\u001b[?25hCollecting brotli (from yt-dlp)\n",
            "  Downloading Brotli-1.1.0-cp310-cp310-manylinux_2_5_x86_64.manylinux1_x86_64.manylinux_2_12_x86_64.manylinux2010_x86_64.whl (3.0 MB)\n",
            "\u001b[2K     \u001b[90m━━━━━━━━━━━━━━━━━━━━━━━━━━━━━━━━━━━━━━━━\u001b[0m \u001b[32m3.0/3.0 MB\u001b[0m \u001b[31m76.8 MB/s\u001b[0m eta \u001b[36m0:00:00\u001b[0m\n",
            "\u001b[?25hRequirement already satisfied: certifi in /usr/local/lib/python3.10/dist-packages (from yt-dlp) (2024.6.2)\n",
            "Collecting mutagen (from yt-dlp)\n",
            "  Downloading mutagen-1.47.0-py3-none-any.whl (194 kB)\n",
            "\u001b[2K     \u001b[90m━━━━━━━━━━━━━━━━━━━━━━━━━━━━━━━━━━━━━━━━\u001b[0m \u001b[32m194.4/194.4 kB\u001b[0m \u001b[31m27.6 MB/s\u001b[0m eta \u001b[36m0:00:00\u001b[0m\n",
            "\u001b[?25hCollecting pycryptodomex (from yt-dlp)\n",
            "  Downloading pycryptodomex-3.20.0-cp35-abi3-manylinux_2_17_x86_64.manylinux2014_x86_64.whl (2.1 MB)\n",
            "\u001b[2K     \u001b[90m━━━━━━━━━━━━━━━━━━━━━━━━━━━━━━━━━━━━━━━━\u001b[0m \u001b[32m2.1/2.1 MB\u001b[0m \u001b[31m84.6 MB/s\u001b[0m eta \u001b[36m0:00:00\u001b[0m\n",
            "\u001b[?25hRequirement already satisfied: requests<3,>=2.31.0 in /usr/local/lib/python3.10/dist-packages (from yt-dlp) (2.31.0)\n",
            "Requirement already satisfied: urllib3<3,>=1.26.17 in /usr/local/lib/python3.10/dist-packages (from yt-dlp) (2.0.7)\n",
            "Collecting websockets>=12.0 (from yt-dlp)\n",
            "  Downloading websockets-12.0-cp310-cp310-manylinux_2_5_x86_64.manylinux1_x86_64.manylinux_2_17_x86_64.manylinux2014_x86_64.whl (130 kB)\n",
            "\u001b[2K     \u001b[90m━━━━━━━━━━━━━━━━━━━━━━━━━━━━━━━━━━━━━━━━\u001b[0m \u001b[32m130.2/130.2 kB\u001b[0m \u001b[31m17.8 MB/s\u001b[0m eta \u001b[36m0:00:00\u001b[0m\n",
            "\u001b[?25hRequirement already satisfied: charset-normalizer<4,>=2 in /usr/local/lib/python3.10/dist-packages (from requests<3,>=2.31.0->yt-dlp) (3.3.2)\n",
            "Requirement already satisfied: idna<4,>=2.5 in /usr/local/lib/python3.10/dist-packages (from requests<3,>=2.31.0->yt-dlp) (3.7)\n",
            "Installing collected packages: brotli, websockets, pycryptodomex, mutagen, yt-dlp\n",
            "Successfully installed brotli-1.1.0 mutagen-1.47.0 pycryptodomex-3.20.0 websockets-12.0 yt-dlp-2024.5.27\n",
            "Requirement already satisfied: flask in /usr/local/lib/python3.10/dist-packages (2.2.5)\n",
            "Collecting flask-ngrok\n",
            "  Downloading flask_ngrok-0.0.25-py3-none-any.whl (3.1 kB)\n",
            "Collecting pyngrok\n",
            "  Downloading pyngrok-7.1.6-py3-none-any.whl (22 kB)\n",
            "Collecting flask-cors\n",
            "  Downloading Flask_Cors-4.0.1-py2.py3-none-any.whl (14 kB)\n",
            "Requirement already satisfied: Werkzeug>=2.2.2 in /usr/local/lib/python3.10/dist-packages (from flask) (3.0.3)\n",
            "Requirement already satisfied: Jinja2>=3.0 in /usr/local/lib/python3.10/dist-packages (from flask) (3.1.4)\n",
            "Requirement already satisfied: itsdangerous>=2.0 in /usr/local/lib/python3.10/dist-packages (from flask) (2.2.0)\n",
            "Requirement already satisfied: click>=8.0 in /usr/local/lib/python3.10/dist-packages (from flask) (8.1.7)\n",
            "Requirement already satisfied: requests in /usr/local/lib/python3.10/dist-packages (from flask-ngrok) (2.31.0)\n",
            "Requirement already satisfied: PyYAML>=5.1 in /usr/local/lib/python3.10/dist-packages (from pyngrok) (6.0.1)\n",
            "Requirement already satisfied: MarkupSafe>=2.0 in /usr/local/lib/python3.10/dist-packages (from Jinja2>=3.0->flask) (2.1.5)\n",
            "Requirement already satisfied: charset-normalizer<4,>=2 in /usr/local/lib/python3.10/dist-packages (from requests->flask-ngrok) (3.3.2)\n",
            "Requirement already satisfied: idna<4,>=2.5 in /usr/local/lib/python3.10/dist-packages (from requests->flask-ngrok) (3.7)\n",
            "Requirement already satisfied: urllib3<3,>=1.21.1 in /usr/local/lib/python3.10/dist-packages (from requests->flask-ngrok) (2.0.7)\n",
            "Requirement already satisfied: certifi>=2017.4.17 in /usr/local/lib/python3.10/dist-packages (from requests->flask-ngrok) (2024.6.2)\n",
            "Installing collected packages: pyngrok, flask-ngrok, flask-cors\n",
            "Successfully installed flask-cors-4.0.1 flask-ngrok-0.0.25 pyngrok-7.1.6\n",
            "Authtoken saved to configuration file: /root/.config/ngrok/ngrok.yml\n",
            "Collecting openai\n",
            "  Downloading openai-1.33.0-py3-none-any.whl (325 kB)\n",
            "\u001b[2K     \u001b[90m━━━━━━━━━━━━━━━━━━━━━━━━━━━━━━━━━━━━━━━━\u001b[0m \u001b[32m325.5/325.5 kB\u001b[0m \u001b[31m2.3 MB/s\u001b[0m eta \u001b[36m0:00:00\u001b[0m\n",
            "\u001b[?25hRequirement already satisfied: anyio<5,>=3.5.0 in /usr/local/lib/python3.10/dist-packages (from openai) (3.7.1)\n",
            "Requirement already satisfied: distro<2,>=1.7.0 in /usr/lib/python3/dist-packages (from openai) (1.7.0)\n",
            "Collecting httpx<1,>=0.23.0 (from openai)\n",
            "  Downloading httpx-0.27.0-py3-none-any.whl (75 kB)\n",
            "\u001b[2K     \u001b[90m━━━━━━━━━━━━━━━━━━━━━━━━━━━━━━━━━━━━━━━━\u001b[0m \u001b[32m75.6/75.6 kB\u001b[0m \u001b[31m11.4 MB/s\u001b[0m eta \u001b[36m0:00:00\u001b[0m\n",
            "\u001b[?25hRequirement already satisfied: pydantic<3,>=1.9.0 in /usr/local/lib/python3.10/dist-packages (from openai) (2.7.3)\n",
            "Requirement already satisfied: sniffio in /usr/local/lib/python3.10/dist-packages (from openai) (1.3.1)\n",
            "Requirement already satisfied: tqdm>4 in /usr/local/lib/python3.10/dist-packages (from openai) (4.66.4)\n",
            "Requirement already satisfied: typing-extensions<5,>=4.7 in /usr/local/lib/python3.10/dist-packages (from openai) (4.12.1)\n",
            "Requirement already satisfied: idna>=2.8 in /usr/local/lib/python3.10/dist-packages (from anyio<5,>=3.5.0->openai) (3.7)\n",
            "Requirement already satisfied: exceptiongroup in /usr/local/lib/python3.10/dist-packages (from anyio<5,>=3.5.0->openai) (1.2.1)\n",
            "Requirement already satisfied: certifi in /usr/local/lib/python3.10/dist-packages (from httpx<1,>=0.23.0->openai) (2024.6.2)\n",
            "Collecting httpcore==1.* (from httpx<1,>=0.23.0->openai)\n",
            "  Downloading httpcore-1.0.5-py3-none-any.whl (77 kB)\n",
            "\u001b[2K     \u001b[90m━━━━━━━━━━━━━━━━━━━━━━━━━━━━━━━━━━━━━━━━\u001b[0m \u001b[32m77.9/77.9 kB\u001b[0m \u001b[31m8.0 MB/s\u001b[0m eta \u001b[36m0:00:00\u001b[0m\n",
            "\u001b[?25hCollecting h11<0.15,>=0.13 (from httpcore==1.*->httpx<1,>=0.23.0->openai)\n",
            "  Downloading h11-0.14.0-py3-none-any.whl (58 kB)\n",
            "\u001b[2K     \u001b[90m━━━━━━━━━━━━━━━━━━━━━━━━━━━━━━━━━━━━━━━━\u001b[0m \u001b[32m58.3/58.3 kB\u001b[0m \u001b[31m9.4 MB/s\u001b[0m eta \u001b[36m0:00:00\u001b[0m\n",
            "\u001b[?25hRequirement already satisfied: annotated-types>=0.4.0 in /usr/local/lib/python3.10/dist-packages (from pydantic<3,>=1.9.0->openai) (0.7.0)\n",
            "Requirement already satisfied: pydantic-core==2.18.4 in /usr/local/lib/python3.10/dist-packages (from pydantic<3,>=1.9.0->openai) (2.18.4)\n",
            "Installing collected packages: h11, httpcore, httpx, openai\n",
            "Successfully installed h11-0.14.0 httpcore-1.0.5 httpx-0.27.0 openai-1.33.0\n"
          ]
        }
      ],
      "source": [
        "# whisper 모델 설치\n",
        "!pip install git+https://github.com/openai/whisper.git -q\n",
        "\n",
        "# Whisper 모델 로드 (Medium 사이즈)\n",
        "import whisper\n",
        "model = whisper.load_model(\"medium\")\n",
        "\n",
        "# Youtube MP3 추출에 필요한 라이브러리\n",
        "!pip install -U yt-dlp\n",
        "\n",
        "# Flask 서버에 필요한 라이브러리 설치 및 토큰 설정\n",
        "!pip install flask flask-ngrok pyngrok flask-cors\n",
        "!ngrok authtoken {ngrok_token}\n",
        "\n",
        "# gpt api를 위한 라이브러리\n",
        "!pip install openai"
      ]
    },
    {
      "cell_type": "code",
      "execution_count": 4,
      "metadata": {
        "colab": {
          "base_uri": "https://localhost:8080/"
        },
        "id": "PzFqxOofoTub",
        "outputId": "1f468ca4-530a-4053-b413-4ce67725418d"
      },
      "outputs": [
        {
          "output_type": "execute_result",
          "data": {
            "text/plain": [
              "device(type='cuda', index=0)"
            ]
          },
          "metadata": {},
          "execution_count": 4
        }
      ],
      "source": [
        "model.device"
      ]
    },
    {
      "cell_type": "markdown",
      "source": [
        "# Process code on Flask"
      ],
      "metadata": {
        "id": "IEjY6xI_0fhp"
      }
    },
    {
      "cell_type": "code",
      "execution_count": 5,
      "metadata": {
        "id": "wWTW4CaKuB0a",
        "colab": {
          "base_uri": "https://localhost:8080/"
        },
        "outputId": "49d19039-3df0-4c60-a300-9e2ebc0956b0"
      },
      "outputs": [
        {
          "output_type": "stream",
          "name": "stdout",
          "text": [
            "ngrok tunnel available at: NgrokTunnel: \"https://db08-104-197-187-245.ngrok-free.app\" -> \"http://localhost:5000\"\n",
            " * Serving Flask app '__main__'\n",
            " * Debug mode: off\n"
          ]
        },
        {
          "output_type": "stream",
          "name": "stderr",
          "text": [
            "INFO:werkzeug:\u001b[31m\u001b[1mWARNING: This is a development server. Do not use it in a production deployment. Use a production WSGI server instead.\u001b[0m\n",
            " * Running on http://127.0.0.1:5000\n",
            "INFO:werkzeug:\u001b[33mPress CTRL+C to quit\u001b[0m\n",
            "INFO:werkzeug:127.0.0.1 - - [10/Jun/2024 05:46:03] \"OPTIONS /process HTTP/1.1\" 200 -\n"
          ]
        },
        {
          "output_type": "stream",
          "name": "stdout",
          "text": [
            "[youtube] Extracting URL: https://youtu.be/WL5Db85hlHc?si=9d-W3gNNxeaWDHI1\n",
            "[youtube] WL5Db85hlHc: Downloading webpage\n",
            "[youtube] WL5Db85hlHc: Downloading ios player API JSON\n",
            "[youtube] WL5Db85hlHc: Downloading player dee49cfa\n",
            "[youtube] WL5Db85hlHc: Downloading m3u8 information\n",
            "[info] WL5Db85hlHc: Downloading 1 format(s): 251\n",
            "[download] Destination: /content/drive/My Drive/vidie-audie/contents/30대 중후반 개발자 공부조언.webm\n",
            "[download] 100% of    8.93MiB in 00:00:00 at 28.23MiB/s  \n",
            "[ExtractAudio] Destination: /content/drive/My Drive/vidie-audie/contents/30대 중후반 개발자 공부조언.mp3\n",
            "Deleting original file /content/drive/My Drive/vidie-audie/contents/30대 중후반 개발자 공부조언.webm (pass -k to keep)\n",
            "mp3 다운로드 완료!\n",
            "텍스트 파일 저장 완료! 파일 경로: /content/drive/My Drive/vidie-audie/contents/30대 중후반 개발자 공부조언.txt\n"
          ]
        },
        {
          "output_type": "stream",
          "name": "stderr",
          "text": [
            "INFO:werkzeug:127.0.0.1 - - [10/Jun/2024 05:48:23] \"POST /process HTTP/1.1\" 200 -\n"
          ]
        }
      ],
      "source": [
        "from flask import Flask, request, jsonify\n",
        "from pyngrok import ngrok\n",
        "import yt_dlp\n",
        "import whisper\n",
        "import shutil\n",
        "import os\n",
        "import re\n",
        "from flask_cors import CORS\n",
        "\n",
        "import openai\n",
        "import time\n",
        "\n",
        "app = Flask(__name__)\n",
        "CORS(app)\n",
        "\n",
        "public_url = ngrok.connect(5000)\n",
        "print(\"ngrok tunnel available at:\", public_url)\n",
        "\n",
        "def sanitize_filename(filename):\n",
        "    \"\"\"파일 이름에서 허용되지 않는 문자를 제거합니다.\"\"\"\n",
        "    return re.sub(r'[\\\\/*?:\"<>|\\']', \"\", filename)\n",
        "\n",
        "def download_video_as_mp3(url, custom_name):\n",
        "    safe_custom_name = sanitize_filename(custom_name)\n",
        "    ydl_opts = {\n",
        "        'format': 'bestaudio/best',\n",
        "        'postprocessors': [{\n",
        "            'key': 'FFmpegExtractAudio',\n",
        "            'preferredcodec': 'mp3',\n",
        "            'preferredquality': '192',\n",
        "        }],\n",
        "        'outtmpl': f\"/content/drive/My Drive/vidie-audie/contents/{safe_custom_name}.%(ext)s\",\n",
        "        'windowsfilenames': False  # 윈도우 파일 이름 규칙을 따르지 않도록 설정 #다루고 있는 safe_custom_name과 실제 파일명이 달라질 수 있는 잠재적 가능성 방지\n",
        "    }\n",
        "    with yt_dlp.YoutubeDL(ydl_opts) as ydl:\n",
        "        ydl.download([url])\n",
        "        return safe_custom_name\n",
        "\n",
        "\n",
        "client = openai.OpenAI(\n",
        "    api_key=openai_api_key\n",
        ")\n",
        "\n",
        "SUMMARY_PROMPT = \"\"\"입력되는 텍스트를 500자 내외로 요약해주고, 해당 텍스트의 핵심 키워드 단어를 하나 골라서 요약문과 같이 제공해줘\n",
        "너가 제공해줘야 할 출력 형태는 '키워드 단어 & 500자 내외의 요약문'이야. 출력 형태를 반드시 지켜\"\"\"\n",
        "\n",
        "def read_text_file(file_path) :\n",
        "  with open(file_path, 'r', encoding='utf-8') as file:\n",
        "    return file.read()\n",
        "\n",
        "def summarize_text(text) :\n",
        "  max_retries = 5\n",
        "  for i in range(max_retries) :\n",
        "      try :\n",
        "        response = client.chat.completions.create(\n",
        "            model=\"gpt-3.5-turbo\",\n",
        "            messages=[\n",
        "                {\"role\" : \"system\", \"content\" : SUMMARY_PROMPT},\n",
        "                {\"role\": \"user\", \"content\" : text}\n",
        "            ],\n",
        "            temperature=0.5 # 0.0: 결정적, 1.0: 창의적\n",
        "        )\n",
        "        message_content = response.choices[0].message.content.strip()\n",
        "        if '&' in message_content :\n",
        "          return message_content\n",
        "        else :\n",
        "          print(\"응답이 예상한 것과 다르게 나왔습니다. 다시 시도합니다.\")\n",
        "\n",
        "      except openai.RateLimitError:\n",
        "        print(f\"RateLimitError 발생 {2 ** i}초 뒤 재호출하겠습니다.\")\n",
        "        time.sleep(2 ** i)\n",
        "      except openai.APIError as e :\n",
        "        print(f\"OpenAIError 발생 : {str(e)}\")\n",
        "        raise e\n",
        "\n",
        "  raise Exception(\"error : 최대 재시도 횟수 초과\")\n",
        "\n",
        "\n",
        "@app.route(\"/\")\n",
        "def hello():\n",
        "    return \"Hello, World!\"\n",
        "\n",
        "@app.route(\"/test/\")\n",
        "def test() :\n",
        "    return \"This is test page\"\n",
        "\n",
        "@app.route(\"/process\", methods=[\"POST\"])\n",
        "def process() :\n",
        "  data = request.json\n",
        "  down_url = data['url']\n",
        "  custom_name = data['name']\n",
        "\n",
        "  title = download_video_as_mp3(down_url, custom_name)\n",
        "  print(\"mp3 다운로드 완료!\")\n",
        "  mp3_file_path = f\"/content/drive/My Drive/vidie-audie/contents/{title}.mp3\"\n",
        "\n",
        "  result = model.transcribe(mp3_file_path)\n",
        "\n",
        "  txt_file_path = f\"/content/drive/My Drive/vidie-audie/contents/{title}.txt\"\n",
        "\n",
        "  with open(txt_file_path, 'w', encoding='utf-8') as file:\n",
        "      file.write(result['text'])\n",
        "  print(f\"텍스트 파일 저장 완료! 파일 경로: {txt_file_path}\")\n",
        "\n",
        "  input_file_path = txt_file_path\n",
        "  text = read_text_file(input_file_path)\n",
        "  text_output = summarize_text(text).split(' & ')\n",
        "\n",
        "  keyword = text_output[0]\n",
        "  summary = text_output[1]\n",
        "\n",
        "  return jsonify({\"message\": \"Processing complete\", \"mp3_file_path\": mp3_file_path, \"txt_file_path\": txt_file_path, \"keyword\": keyword, \"summary\": summary})\n",
        "  print('response complete')\n",
        "\n",
        "app.run(port=5000)"
      ]
    },
    {
      "cell_type": "code",
      "source": [],
      "metadata": {
        "id": "iFlOh1X-8yyu"
      },
      "execution_count": null,
      "outputs": []
    }
  ],
  "metadata": {
    "colab": {
      "provenance": [],
      "gpuType": "T4"
    },
    "kernelspec": {
      "display_name": "Python 3",
      "name": "python3"
    },
    "language_info": {
      "name": "python"
    },
    "accelerator": "GPU"
  },
  "nbformat": 4,
  "nbformat_minor": 0
}