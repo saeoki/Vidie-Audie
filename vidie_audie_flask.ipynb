{
  "cells": [
    {
      "cell_type": "markdown",
      "metadata": {
        "id": "35VQGwSeW7CS"
      },
      "source": [
        "# Settings"
      ]
    },
    {
      "cell_type": "code",
      "execution_count": null,
      "metadata": {
        "colab": {
          "base_uri": "https://localhost:8080/"
        },
        "id": "AJyMe3EjtMrS",
        "outputId": "3e0785ce-14ff-4a28-b1e4-13b2bc70b5ab"
      },
      "outputs": [
        {
          "output_type": "stream",
          "name": "stdout",
          "text": [
            "Drive already mounted at /content/drive; to attempt to forcibly remount, call drive.mount(\"/content/drive\", force_remount=True).\n",
            "/content/drive/MyDrive/vidie-audie\n"
          ]
        }
      ],
      "source": [
        "# 구글 드라이브 연동\n",
        "from google.colab import drive\n",
        "drive.mount('/content/drive')\n",
        "%cd /content/drive/MyDrive/vidie-audie"
      ]
    },
    {
      "cell_type": "code",
      "source": [
        "%cd /content/drive/MyDrive/vidie-audie"
      ],
      "metadata": {
        "colab": {
          "base_uri": "https://localhost:8080/"
        },
        "id": "_qprVJIqDp83",
        "outputId": "d63217d9-5767-4515-fb62-010a00badcf1"
      },
      "execution_count": 1,
      "outputs": [
        {
          "output_type": "stream",
          "name": "stdout",
          "text": [
            "/content/drive/MyDrive/vidie-audie\n"
          ]
        }
      ]
    },
    {
      "cell_type": "code",
      "source": [
        "# env loading\n",
        "!pip install python-dotenv\n",
        "\n",
        "from dotenv import load_dotenv\n",
        "import os\n",
        "\n",
        "dotenv_path = '/content/drive/MyDrive/vidie-audie/.env'\n",
        "\n",
        "load_dotenv(dotenv_path)\n",
        "ngrok_token = os.getenv('NGROK_AUTHTOKEN')\n",
        "openai_api_key = os.getenv('OPENAI_API_KEY')"
      ],
      "metadata": {
        "id": "eBu-z4vTI6wR",
        "colab": {
          "base_uri": "https://localhost:8080/"
        },
        "outputId": "021e8032-2e9e-4fb0-fb02-b93bdf92692b"
      },
      "execution_count": 4,
      "outputs": [
        {
          "output_type": "stream",
          "name": "stdout",
          "text": [
            "Requirement already satisfied: python-dotenv in /usr/local/lib/python3.10/dist-packages (1.0.1)\n"
          ]
        }
      ]
    },
    {
      "cell_type": "code",
      "execution_count": 8,
      "metadata": {
        "colab": {
          "base_uri": "https://localhost:8080/"
        },
        "id": "S35IUCk2m5u2",
        "outputId": "519260fc-51a6-44d6-a412-7ab6382b60ff"
      },
      "outputs": [
        {
          "output_type": "stream",
          "name": "stdout",
          "text": [
            "  Installing build dependencies ... \u001b[?25l\u001b[?25hdone\n",
            "  Getting requirements to build wheel ... \u001b[?25l\u001b[?25hdone\n",
            "  Preparing metadata (pyproject.toml) ... \u001b[?25l\u001b[?25hdone\n",
            "Requirement already satisfied: yt-dlp in /usr/local/lib/python3.10/dist-packages (2024.5.27)\n",
            "Requirement already satisfied: brotli in /usr/local/lib/python3.10/dist-packages (from yt-dlp) (1.1.0)\n",
            "Requirement already satisfied: certifi in /usr/local/lib/python3.10/dist-packages (from yt-dlp) (2024.6.2)\n",
            "Requirement already satisfied: mutagen in /usr/local/lib/python3.10/dist-packages (from yt-dlp) (1.47.0)\n",
            "Requirement already satisfied: pycryptodomex in /usr/local/lib/python3.10/dist-packages (from yt-dlp) (3.20.0)\n",
            "Requirement already satisfied: requests<3,>=2.31.0 in /usr/local/lib/python3.10/dist-packages (from yt-dlp) (2.31.0)\n",
            "Requirement already satisfied: urllib3<3,>=1.26.17 in /usr/local/lib/python3.10/dist-packages (from yt-dlp) (2.0.7)\n",
            "Requirement already satisfied: websockets>=12.0 in /usr/local/lib/python3.10/dist-packages (from yt-dlp) (12.0)\n",
            "Requirement already satisfied: charset-normalizer<4,>=2 in /usr/local/lib/python3.10/dist-packages (from requests<3,>=2.31.0->yt-dlp) (3.3.2)\n",
            "Requirement already satisfied: idna<4,>=2.5 in /usr/local/lib/python3.10/dist-packages (from requests<3,>=2.31.0->yt-dlp) (3.7)\n",
            "Requirement already satisfied: flask in /usr/local/lib/python3.10/dist-packages (2.2.5)\n",
            "Requirement already satisfied: flask-ngrok in /usr/local/lib/python3.10/dist-packages (0.0.25)\n",
            "Requirement already satisfied: pyngrok in /usr/local/lib/python3.10/dist-packages (7.1.6)\n",
            "Requirement already satisfied: flask-cors in /usr/local/lib/python3.10/dist-packages (4.0.1)\n",
            "Requirement already satisfied: Werkzeug>=2.2.2 in /usr/local/lib/python3.10/dist-packages (from flask) (3.0.3)\n",
            "Requirement already satisfied: Jinja2>=3.0 in /usr/local/lib/python3.10/dist-packages (from flask) (3.1.4)\n",
            "Requirement already satisfied: itsdangerous>=2.0 in /usr/local/lib/python3.10/dist-packages (from flask) (2.2.0)\n",
            "Requirement already satisfied: click>=8.0 in /usr/local/lib/python3.10/dist-packages (from flask) (8.1.7)\n",
            "Requirement already satisfied: requests in /usr/local/lib/python3.10/dist-packages (from flask-ngrok) (2.31.0)\n",
            "Requirement already satisfied: PyYAML>=5.1 in /usr/local/lib/python3.10/dist-packages (from pyngrok) (6.0.1)\n",
            "Requirement already satisfied: MarkupSafe>=2.0 in /usr/local/lib/python3.10/dist-packages (from Jinja2>=3.0->flask) (2.1.5)\n",
            "Requirement already satisfied: charset-normalizer<4,>=2 in /usr/local/lib/python3.10/dist-packages (from requests->flask-ngrok) (3.3.2)\n",
            "Requirement already satisfied: idna<4,>=2.5 in /usr/local/lib/python3.10/dist-packages (from requests->flask-ngrok) (3.7)\n",
            "Requirement already satisfied: urllib3<3,>=1.21.1 in /usr/local/lib/python3.10/dist-packages (from requests->flask-ngrok) (2.0.7)\n",
            "Requirement already satisfied: certifi>=2017.4.17 in /usr/local/lib/python3.10/dist-packages (from requests->flask-ngrok) (2024.6.2)\n",
            "Authtoken saved to configuration file: /root/.config/ngrok/ngrok.yml\n",
            "Requirement already satisfied: openai in /usr/local/lib/python3.10/dist-packages (1.31.1)\n",
            "Requirement already satisfied: anyio<5,>=3.5.0 in /usr/local/lib/python3.10/dist-packages (from openai) (3.7.1)\n",
            "Requirement already satisfied: distro<2,>=1.7.0 in /usr/lib/python3/dist-packages (from openai) (1.7.0)\n",
            "Requirement already satisfied: httpx<1,>=0.23.0 in /usr/local/lib/python3.10/dist-packages (from openai) (0.27.0)\n",
            "Requirement already satisfied: pydantic<3,>=1.9.0 in /usr/local/lib/python3.10/dist-packages (from openai) (2.7.3)\n",
            "Requirement already satisfied: sniffio in /usr/local/lib/python3.10/dist-packages (from openai) (1.3.1)\n",
            "Requirement already satisfied: tqdm>4 in /usr/local/lib/python3.10/dist-packages (from openai) (4.66.4)\n",
            "Requirement already satisfied: typing-extensions<5,>=4.7 in /usr/local/lib/python3.10/dist-packages (from openai) (4.12.1)\n",
            "Requirement already satisfied: idna>=2.8 in /usr/local/lib/python3.10/dist-packages (from anyio<5,>=3.5.0->openai) (3.7)\n",
            "Requirement already satisfied: exceptiongroup in /usr/local/lib/python3.10/dist-packages (from anyio<5,>=3.5.0->openai) (1.2.1)\n",
            "Requirement already satisfied: certifi in /usr/local/lib/python3.10/dist-packages (from httpx<1,>=0.23.0->openai) (2024.6.2)\n",
            "Requirement already satisfied: httpcore==1.* in /usr/local/lib/python3.10/dist-packages (from httpx<1,>=0.23.0->openai) (1.0.5)\n",
            "Requirement already satisfied: h11<0.15,>=0.13 in /usr/local/lib/python3.10/dist-packages (from httpcore==1.*->httpx<1,>=0.23.0->openai) (0.14.0)\n",
            "Requirement already satisfied: annotated-types>=0.4.0 in /usr/local/lib/python3.10/dist-packages (from pydantic<3,>=1.9.0->openai) (0.7.0)\n",
            "Requirement already satisfied: pydantic-core==2.18.4 in /usr/local/lib/python3.10/dist-packages (from pydantic<3,>=1.9.0->openai) (2.18.4)\n"
          ]
        }
      ],
      "source": [
        "# whisper 모델 설치\n",
        "!pip install git+https://github.com/openai/whisper.git -q\n",
        "\n",
        "# Whisper 모델 로드 (Medium 사이즈)\n",
        "import whisper\n",
        "model = whisper.load_model(\"medium\")\n",
        "\n",
        "# Youtube MP3 추출에 필요한 라이브러리\n",
        "!pip install -U yt-dlp\n",
        "\n",
        "# Flask 서버에 필요한 라이브러리 설치 및 토큰 설정\n",
        "!pip install flask flask-ngrok pyngrok flask-cors\n",
        "!ngrok authtoken {ngrok_token}\n",
        "\n",
        "# gpt api를 위한 라이브러리\n",
        "!pip install openai"
      ]
    },
    {
      "cell_type": "code",
      "execution_count": 6,
      "metadata": {
        "colab": {
          "base_uri": "https://localhost:8080/"
        },
        "id": "PzFqxOofoTub",
        "outputId": "08e2509f-e0e4-4f14-e401-d69edc6fe182"
      },
      "outputs": [
        {
          "output_type": "execute_result",
          "data": {
            "text/plain": [
              "device(type='cuda', index=0)"
            ]
          },
          "metadata": {},
          "execution_count": 6
        }
      ],
      "source": [
        "model.device"
      ]
    },
    {
      "cell_type": "markdown",
      "source": [
        "# Process code on Flask"
      ],
      "metadata": {
        "id": "IEjY6xI_0fhp"
      }
    },
    {
      "cell_type": "code",
      "execution_count": 10,
      "metadata": {
        "id": "wWTW4CaKuB0a",
        "colab": {
          "base_uri": "https://localhost:8080/"
        },
        "outputId": "c3095f81-7ecf-488d-c37a-8cd9044094af"
      },
      "outputs": [
        {
          "output_type": "stream",
          "name": "stdout",
          "text": [
            "ngrok tunnel available at: NgrokTunnel: \"https://2424-34-142-236-166.ngrok-free.app\" -> \"http://localhost:5000\"\n",
            " * Serving Flask app '__main__'\n",
            " * Debug mode: off\n"
          ]
        },
        {
          "output_type": "stream",
          "name": "stderr",
          "text": [
            "INFO:werkzeug:\u001b[31m\u001b[1mWARNING: This is a development server. Do not use it in a production deployment. Use a production WSGI server instead.\u001b[0m\n",
            " * Running on http://127.0.0.1:5000\n",
            "INFO:werkzeug:\u001b[33mPress CTRL+C to quit\u001b[0m\n",
            "INFO:werkzeug:127.0.0.1 - - [06/Jun/2024 10:48:46] \"OPTIONS /process HTTP/1.1\" 200 -\n"
          ]
        },
        {
          "output_type": "stream",
          "name": "stdout",
          "text": [
            "[youtube] Extracting URL: https://youtu.be/y5BzqkH8JxE?si=qdQLMLY6bDJns1ac\n",
            "[youtube] y5BzqkH8JxE: Downloading webpage\n"
          ]
        },
        {
          "output_type": "stream",
          "name": "stderr",
          "text": [
            "WARNING: [youtube] unable to extract initial player response; please report this issue on  https://github.com/yt-dlp/yt-dlp/issues?q= , filling out the appropriate issue template. Confirm you are on the latest version using  yt-dlp -U\n"
          ]
        },
        {
          "output_type": "stream",
          "name": "stdout",
          "text": [
            "[youtube] y5BzqkH8JxE: Downloading ios player API JSON\n"
          ]
        },
        {
          "output_type": "stream",
          "name": "stderr",
          "text": [
            "WARNING: [youtube] y5BzqkH8JxE: Failed to parse JSON (caused by JSONDecodeError(\"Expecting value in '': line 1 column 1 (char 0)\")); please report this issue on  https://github.com/yt-dlp/yt-dlp/issues?q= , filling out the appropriate issue template. Confirm you are on the latest version using  yt-dlp -U\n"
          ]
        },
        {
          "output_type": "stream",
          "name": "stdout",
          "text": [
            "[youtube] y5BzqkH8JxE: Downloading iframe API JS\n"
          ]
        },
        {
          "output_type": "stream",
          "name": "stderr",
          "text": [
            "WARNING: [youtube] unable to extract player version; please report this issue on  https://github.com/yt-dlp/yt-dlp/issues?q= , filling out the appropriate issue template. Confirm you are on the latest version using  yt-dlp -U\n"
          ]
        },
        {
          "output_type": "stream",
          "name": "stdout",
          "text": [
            "[youtube] y5BzqkH8JxE: Downloading web player API JSON\n"
          ]
        },
        {
          "output_type": "stream",
          "name": "stderr",
          "text": [
            "WARNING: [youtube] y5BzqkH8JxE: Failed to parse JSON (caused by JSONDecodeError(\"Expecting value in '': line 1 column 1 (char 0)\")); please report this issue on  https://github.com/yt-dlp/yt-dlp/issues?q= , filling out the appropriate issue template. Confirm you are on the latest version using  yt-dlp -U\n",
            "ERROR: [youtube] y5BzqkH8JxE: Failed to extract any player response; please report this issue on  https://github.com/yt-dlp/yt-dlp/issues?q= , filling out the appropriate issue template. Confirm you are on the latest version using  yt-dlp -U\n",
            "ERROR:__main__:Exception on /process [POST]\n",
            "Traceback (most recent call last):\n",
            "  File \"/usr/local/lib/python3.10/dist-packages/yt_dlp/YoutubeDL.py\", line 1606, in wrapper\n",
            "    return func(self, *args, **kwargs)\n",
            "  File \"/usr/local/lib/python3.10/dist-packages/yt_dlp/YoutubeDL.py\", line 1741, in __extract_info\n",
            "    ie_result = ie.extract(url)\n",
            "  File \"/usr/local/lib/python3.10/dist-packages/yt_dlp/extractor/common.py\", line 734, in extract\n",
            "    ie_result = self._real_extract(url)\n",
            "  File \"/usr/local/lib/python3.10/dist-packages/yt_dlp/extractor/youtube.py\", line 4145, in _real_extract\n",
            "    webpage, master_ytcfg, player_responses, player_url = self._download_player_responses(url, smuggled_data, video_id, webpage_url)\n",
            "  File \"/usr/local/lib/python3.10/dist-packages/yt_dlp/extractor/youtube.py\", line 4109, in _download_player_responses\n",
            "    player_responses, player_url = self._extract_player_responses(\n",
            "  File \"/usr/local/lib/python3.10/dist-packages/yt_dlp/extractor/youtube.py\", line 3791, in _extract_player_responses\n",
            "    raise ExtractorError('Failed to extract any player response')\n",
            "yt_dlp.utils.ExtractorError: [youtube] y5BzqkH8JxE: Failed to extract any player response; please report this issue on  https://github.com/yt-dlp/yt-dlp/issues?q= , filling out the appropriate issue template. Confirm you are on the latest version using  yt-dlp -U\n",
            "\n",
            "During handling of the above exception, another exception occurred:\n",
            "\n",
            "Traceback (most recent call last):\n",
            "  File \"/usr/local/lib/python3.10/dist-packages/flask/app.py\", line 2529, in wsgi_app\n",
            "    response = self.full_dispatch_request()\n",
            "  File \"/usr/local/lib/python3.10/dist-packages/flask/app.py\", line 1825, in full_dispatch_request\n",
            "    rv = self.handle_user_exception(e)\n",
            "  File \"/usr/local/lib/python3.10/dist-packages/flask_cors/extension.py\", line 178, in wrapped_function\n",
            "    return cors_after_request(app.make_response(f(*args, **kwargs)))\n",
            "  File \"/usr/local/lib/python3.10/dist-packages/flask/app.py\", line 1823, in full_dispatch_request\n",
            "    rv = self.dispatch_request()\n",
            "  File \"/usr/local/lib/python3.10/dist-packages/flask/app.py\", line 1799, in dispatch_request\n",
            "    return self.ensure_sync(self.view_functions[rule.endpoint])(**view_args)\n",
            "  File \"<ipython-input-10-15e7502f801f>\", line 93, in process\n",
            "    title = download_video_as_mp3(down_url, custom_name)\n",
            "  File \"<ipython-input-10-15e7502f801f>\", line 36, in download_video_as_mp3\n",
            "    ydl.download([url])\n",
            "  File \"/usr/local/lib/python3.10/dist-packages/yt_dlp/YoutubeDL.py\", line 3583, in download\n",
            "    self.__download_wrapper(self.extract_info)(\n",
            "  File \"/usr/local/lib/python3.10/dist-packages/yt_dlp/YoutubeDL.py\", line 3558, in wrapper\n",
            "    res = func(*args, **kwargs)\n",
            "  File \"/usr/local/lib/python3.10/dist-packages/yt_dlp/YoutubeDL.py\", line 1595, in extract_info\n",
            "    return self.__extract_info(url, self.get_info_extractor(key), download, extra_info, process)\n",
            "  File \"/usr/local/lib/python3.10/dist-packages/yt_dlp/YoutubeDL.py\", line 1624, in wrapper\n",
            "    self.report_error(str(e), e.format_traceback())\n",
            "  File \"/usr/local/lib/python3.10/dist-packages/yt_dlp/YoutubeDL.py\", line 1073, in report_error\n",
            "    self.trouble(f'{self._format_err(\"ERROR:\", self.Styles.ERROR)} {message}', *args, **kwargs)\n",
            "  File \"/usr/local/lib/python3.10/dist-packages/yt_dlp/YoutubeDL.py\", line 1012, in trouble\n",
            "    raise DownloadError(message, exc_info)\n",
            "yt_dlp.utils.DownloadError: ERROR: [youtube] y5BzqkH8JxE: Failed to extract any player response; please report this issue on  https://github.com/yt-dlp/yt-dlp/issues?q= , filling out the appropriate issue template. Confirm you are on the latest version using  yt-dlp -U\n",
            "INFO:werkzeug:127.0.0.1 - - [06/Jun/2024 10:48:47] \"\u001b[35m\u001b[1mPOST /process HTTP/1.1\u001b[0m\" 500 -\n"
          ]
        }
      ],
      "source": [
        "from flask import Flask, request, jsonify\n",
        "from pyngrok import ngrok\n",
        "import yt_dlp\n",
        "import whisper\n",
        "import shutil\n",
        "import os\n",
        "import re\n",
        "from flask_cors import CORS\n",
        "\n",
        "import openai\n",
        "import time\n",
        "\n",
        "app = Flask(__name__)\n",
        "CORS(app)\n",
        "\n",
        "public_url = ngrok.connect(5000)\n",
        "print(\"ngrok tunnel available at:\", public_url)\n",
        "\n",
        "def sanitize_filename(filename):\n",
        "    \"\"\"파일 이름에서 허용되지 않는 문자를 제거합니다.\"\"\"\n",
        "    return re.sub(r'[\\\\/*?:\"<>|\\']', \"\", filename)\n",
        "\n",
        "def download_video_as_mp3(url, custom_name):\n",
        "    safe_custom_name = sanitize_filename(custom_name)\n",
        "    ydl_opts = {\n",
        "        'format': 'bestaudio/best',\n",
        "        'postprocessors': [{\n",
        "            'key': 'FFmpegExtractAudio',\n",
        "            'preferredcodec': 'mp3',\n",
        "            'preferredquality': '192',\n",
        "        }],\n",
        "        'outtmpl': f\"/content/drive/My Drive/vidie-audie/contents/{safe_custom_name}.%(ext)s\",\n",
        "        'windowsfilenames': False  # 윈도우 파일 이름 규칙을 따르지 않도록 설정 #다루고 있는 safe_custom_name과 실제 파일명이 달라질 수 있는 잠재적 가능성 방지\n",
        "    }\n",
        "    with yt_dlp.YoutubeDL(ydl_opts) as ydl:\n",
        "        ydl.download([url])\n",
        "        return safe_custom_name\n",
        "\n",
        "\n",
        "client = openai.OpenAI(\n",
        "    api_key=openai_api_key\n",
        ")\n",
        "\n",
        "SUMMARY_PROMPT = \"\"\"입력되는 텍스트를 500자 내외로 요약해주고, 해당 텍스트의 핵심 키워드 단어를 하나 골라서 요약문과 같이 제공해줘\n",
        "너가 제공해줘야 할 출력 형태는 '키워드 단어 & 500자 내외의 요약문'이야. 출력 형태를 반드시 지켜\"\"\"\n",
        "\n",
        "def read_text_file(file_path) :\n",
        "  with open(file_path, 'r', encoding='utf-8') as file:\n",
        "    return file.read()\n",
        "\n",
        "def summarize_text(text) :\n",
        "  max_retries = 5\n",
        "  for i in range(max_retries) :\n",
        "      try :\n",
        "        response = client.chat.completions.create(\n",
        "            model=\"gpt-3.5-turbo\",\n",
        "            messages=[\n",
        "                {\"role\" : \"system\", \"content\" : SUMMARY_PROMPT},\n",
        "                {\"role\": \"user\", \"content\" : text}\n",
        "            ],\n",
        "            temperature=0.5 # 0.0: 결정적, 1.0: 창의적\n",
        "        )\n",
        "        message_content = response.choices[0].message.content.strip()\n",
        "        if '&' in message_content :\n",
        "          return message_content\n",
        "        else :\n",
        "          print(\"응답이 예상한 것과 다르게 나왔습니다. 다시 시도합니다.\")\n",
        "\n",
        "      except openai.RateLimitError:\n",
        "        print(f\"RateLimitError 발생 {2 ** i}초 뒤 재호출하겠습니다.\")\n",
        "        time.sleep(2 ** i)\n",
        "      except openai.APIError as e :\n",
        "        print(f\"OpenAIError 발생 : {str(e)}\")\n",
        "        raise e\n",
        "\n",
        "  raise Exception(\"error : 최대 재시도 횟수 초과\")\n",
        "\n",
        "\n",
        "@app.route(\"/\")\n",
        "def hello():\n",
        "    return \"Hello, World!\"\n",
        "\n",
        "@app.route(\"/test/\")\n",
        "def test() :\n",
        "    return \"This is test page\"\n",
        "\n",
        "@app.route(\"/process\", methods=[\"POST\"])\n",
        "def process() :\n",
        "  data = request.json\n",
        "  down_url = data['url']\n",
        "  custom_name = data['name']\n",
        "\n",
        "  title = download_video_as_mp3(down_url, custom_name)\n",
        "  print(\"mp3 다운로드 완료!\")\n",
        "  mp3_file_path = f\"/content/drive/My Drive/vidie-audie/contents/{title}.mp3\"\n",
        "\n",
        "  result = model.transcribe(mp3_file_path)\n",
        "\n",
        "  txt_file_path = f\"/content/drive/My Drive/vidie-audie/contents/{title}.txt\"\n",
        "\n",
        "  with open(txt_file_path, 'w', encoding='utf-8') as file:\n",
        "      file.write(result['text'])\n",
        "  print(f\"텍스트 파일 저장 완료! 파일 경로: {txt_file_path}\")\n",
        "\n",
        "  input_file_path = txt_file_path\n",
        "  text = read_text_file(input_file_path)\n",
        "  text_output = summarize_text(text).split(' & ')\n",
        "\n",
        "  keyword = text_output[0]\n",
        "  summary = text_output[1]\n",
        "\n",
        "  return jsonify({\"message\": \"Processing complete\", \"mp3_file_path\": mp3_file_path, \"txt_file_path\": txt_file_path, \"keyword\": keyword, \"summary\": summary})\n",
        "  print('response complete')\n",
        "\n",
        "app.run(port=5000)"
      ]
    },
    {
      "cell_type": "code",
      "source": [],
      "metadata": {
        "id": "iFlOh1X-8yyu"
      },
      "execution_count": null,
      "outputs": []
    }
  ],
  "metadata": {
    "colab": {
      "provenance": [],
      "gpuType": "T4"
    },
    "kernelspec": {
      "display_name": "Python 3",
      "name": "python3"
    },
    "language_info": {
      "name": "python"
    },
    "accelerator": "GPU"
  },
  "nbformat": 4,
  "nbformat_minor": 0
}